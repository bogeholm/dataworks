{
 "cells": [
  {
   "cell_type": "code",
   "execution_count": 1,
   "metadata": {},
   "outputs": [],
   "source": [
    "import numpy as np\n",
    "import pandas as pd\n",
    "\n",
    "from collections import OrderedDict\n",
    "from datetime import datetime, timedelta\n",
    "from typing import Any, Iterable"
   ]
  },
  {
   "cell_type": "code",
   "execution_count": 2,
   "metadata": {},
   "outputs": [],
   "source": [
    "def random_date_str(N: int=1, datefmt: str='%Y-%m-%d') -> np.array:\n",
    "    \"\"\" Return N random date strings.\n",
    "    \"\"\"\n",
    "    first = datetime.strptime('2000-01-01', '%Y-%m-%d')\n",
    "    last = datetime.strptime('2020-01-01', '%Y-%m-%d')\n",
    "    \n",
    "    # Datetime diff\n",
    "    datediff = last - first\n",
    "    \n",
    "    # Diff in seconds\n",
    "    secdiff = datediff.days*24*3600 + datediff.seconds\n",
    "    \n",
    "    # Generate random seconds in range\n",
    "    randsecs = np.random.randint(low=0, high=secdiff+1, size=N)\n",
    "    \n",
    "    # Generate date strings\n",
    "    resdates = []\n",
    "    for idx, seconds in enumerate(randsecs):\n",
    "        # New date\n",
    "        rand_date = first + timedelta(seconds=int(seconds))\n",
    "        resdates.append(rand_date.strftime(datefmt))\n",
    "    \n",
    "    return np.array(resdates)"
   ]
  },
  {
   "cell_type": "code",
   "execution_count": 3,
   "metadata": {},
   "outputs": [],
   "source": [
    "def random_category(categories: Iterable[Any], N: int=1) -> np.array:\n",
    "    \"\"\" Pick random elements from the supplied list\n",
    "    \"\"\"\n",
    "    choices = np.random.randint(low=0, high=len(categories), size=N)\n",
    "    chosen = []\n",
    "    for choice in choices:\n",
    "        chosen.append(categories[choice])\n",
    "    \n",
    "    return np.array(chosen)"
   ]
  },
  {
   "cell_type": "code",
   "execution_count": 4,
   "metadata": {},
   "outputs": [
    {
     "data": {
      "text/plain": [
       "array(['', 'Low', 'Low', 'Low', ''], dtype='<U3')"
      ]
     },
     "execution_count": 4,
     "metadata": {},
     "output_type": "execute_result"
    }
   ],
   "source": [
    "random_category(['Low', 'Medium', 'High', ''], N=5)"
   ]
  },
  {
   "cell_type": "code",
   "execution_count": 5,
   "metadata": {},
   "outputs": [],
   "source": [
    "# Construct test data\n",
    "data_len = 100\n",
    "\n",
    "levels = ['Low', 'Medium', 'High', 'Critical', '']\n",
    "settings = ['stun', 'heat', 'disintegrate', 'field burst', 'luvetric pulse', 'expanding energy pulse', 'proximity blast', '']\n",
    "\n",
    "data = OrderedDict()\n",
    "data['date'] = random_date_str(data_len)\n",
    "data['level'] = random_category(levels, data_len)\n",
    "data['setting'] = random_category(settings, data_len)"
   ]
  },
  {
   "cell_type": "code",
   "execution_count": 7,
   "metadata": {},
   "outputs": [
    {
     "data": {
      "text/html": [
       "<div>\n",
       "<style scoped>\n",
       "    .dataframe tbody tr th:only-of-type {\n",
       "        vertical-align: middle;\n",
       "    }\n",
       "\n",
       "    .dataframe tbody tr th {\n",
       "        vertical-align: top;\n",
       "    }\n",
       "\n",
       "    .dataframe thead th {\n",
       "        text-align: right;\n",
       "    }\n",
       "</style>\n",
       "<table border=\"1\" class=\"dataframe\">\n",
       "  <thead>\n",
       "    <tr style=\"text-align: right;\">\n",
       "      <th></th>\n",
       "      <th>date</th>\n",
       "      <th>level</th>\n",
       "      <th>setting</th>\n",
       "    </tr>\n",
       "  </thead>\n",
       "  <tbody>\n",
       "    <tr>\n",
       "      <th>0</th>\n",
       "      <td>2002-11-03</td>\n",
       "      <td></td>\n",
       "      <td>field burst</td>\n",
       "    </tr>\n",
       "    <tr>\n",
       "      <th>1</th>\n",
       "      <td>2008-08-26</td>\n",
       "      <td>Critical</td>\n",
       "      <td>stun</td>\n",
       "    </tr>\n",
       "    <tr>\n",
       "      <th>2</th>\n",
       "      <td>2003-08-13</td>\n",
       "      <td></td>\n",
       "      <td></td>\n",
       "    </tr>\n",
       "    <tr>\n",
       "      <th>3</th>\n",
       "      <td>2001-10-17</td>\n",
       "      <td></td>\n",
       "      <td>field burst</td>\n",
       "    </tr>\n",
       "    <tr>\n",
       "      <th>4</th>\n",
       "      <td>2007-04-10</td>\n",
       "      <td></td>\n",
       "      <td>expanding energy pulse</td>\n",
       "    </tr>\n",
       "    <tr>\n",
       "      <th>...</th>\n",
       "      <td>...</td>\n",
       "      <td>...</td>\n",
       "      <td>...</td>\n",
       "    </tr>\n",
       "    <tr>\n",
       "      <th>95</th>\n",
       "      <td>2011-07-01</td>\n",
       "      <td></td>\n",
       "      <td>heat</td>\n",
       "    </tr>\n",
       "    <tr>\n",
       "      <th>96</th>\n",
       "      <td>2017-05-18</td>\n",
       "      <td></td>\n",
       "      <td>heat</td>\n",
       "    </tr>\n",
       "    <tr>\n",
       "      <th>97</th>\n",
       "      <td>2003-07-13</td>\n",
       "      <td>High</td>\n",
       "      <td></td>\n",
       "    </tr>\n",
       "    <tr>\n",
       "      <th>98</th>\n",
       "      <td>2013-01-13</td>\n",
       "      <td>Medium</td>\n",
       "      <td>proximity blast</td>\n",
       "    </tr>\n",
       "    <tr>\n",
       "      <th>99</th>\n",
       "      <td>2002-09-24</td>\n",
       "      <td>Medium</td>\n",
       "      <td>stun</td>\n",
       "    </tr>\n",
       "  </tbody>\n",
       "</table>\n",
       "<p>100 rows × 3 columns</p>\n",
       "</div>"
      ],
      "text/plain": [
       "          date     level                 setting\n",
       "0   2002-11-03                       field burst\n",
       "1   2008-08-26  Critical                    stun\n",
       "2   2003-08-13                                  \n",
       "3   2001-10-17                       field burst\n",
       "4   2007-04-10            expanding energy pulse\n",
       "..         ...       ...                     ...\n",
       "95  2011-07-01                              heat\n",
       "96  2017-05-18                              heat\n",
       "97  2003-07-13      High                        \n",
       "98  2013-01-13    Medium         proximity blast\n",
       "99  2002-09-24    Medium                    stun\n",
       "\n",
       "[100 rows x 3 columns]"
      ]
     },
     "execution_count": 7,
     "metadata": {},
     "output_type": "execute_result"
    }
   ],
   "source": [
    "df = pd.DataFrame(data)\n",
    "df"
   ]
  },
  {
   "cell_type": "code",
   "execution_count": 7,
   "metadata": {},
   "outputs": [],
   "source": [
    "#df.to_csv('../../dataworks/tests/testdata/testdata.csv')"
   ]
  },
  {
   "cell_type": "code",
   "execution_count": null,
   "metadata": {},
   "outputs": [],
   "source": []
  },
  {
   "cell_type": "code",
   "execution_count": null,
   "metadata": {},
   "outputs": [],
   "source": []
  }
 ],
 "metadata": {
  "kernelspec": {
   "display_name": "Python 3",
   "language": "python",
   "name": "python3"
  },
  "language_info": {
   "codemirror_mode": {
    "name": "ipython",
    "version": 3
   },
   "file_extension": ".py",
   "mimetype": "text/x-python",
   "name": "python",
   "nbconvert_exporter": "python",
   "pygments_lexer": "ipython3",
   "version": "3.7.3"
  }
 },
 "nbformat": 4,
 "nbformat_minor": 2
}
