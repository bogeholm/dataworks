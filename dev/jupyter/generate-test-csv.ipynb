{
 "cells": [
  {
   "cell_type": "code",
   "execution_count": 1,
   "metadata": {},
   "outputs": [],
   "source": [
    "import numpy as np\n",
    "import pandas as pd\n",
    "\n",
    "from collections import OrderedDict\n",
    "from datetime import datetime, timedelta\n",
    "from typing import Any, Iterable"
   ]
  },
  {
   "cell_type": "code",
   "execution_count": 2,
   "metadata": {},
   "outputs": [],
   "source": [
    "def random_date_str(N: int=1, datefmt: str='%Y-%m-%d') -> np.array:\n",
    "    \"\"\" Return N random date strings.\n",
    "    \"\"\"\n",
    "    first = datetime.strptime('2000-01-01', '%Y-%m-%d')\n",
    "    last = datetime.strptime('2020-01-01', '%Y-%m-%d')\n",
    "    \n",
    "    # Datetime diff\n",
    "    datediff = last - first\n",
    "    \n",
    "    # Diff in seconds\n",
    "    secdiff = datediff.days*24*3600 + datediff.seconds\n",
    "    \n",
    "    # Generate random seconds in range\n",
    "    randsecs = np.random.randint(low=0, high=secdiff+1, size=N)\n",
    "    \n",
    "    # Generate date strings\n",
    "    resdates = []\n",
    "    for idx, seconds in enumerate(randsecs):\n",
    "        # New date\n",
    "        rand_date = first + timedelta(seconds=int(seconds))\n",
    "        resdates.append(rand_date.strftime(datefmt))\n",
    "    \n",
    "    return np.array(resdates)"
   ]
  },
  {
   "cell_type": "code",
   "execution_count": 3,
   "metadata": {},
   "outputs": [],
   "source": [
    "def random_category(categories: Iterable[Any], N: int=1) -> np.array:\n",
    "    \"\"\" Pick random elements from the supplied list\n",
    "    \"\"\"\n",
    "    choices = np.random.randint(low=0, high=len(categories), size=N)\n",
    "    chosen = []\n",
    "    for choice in choices:\n",
    "        chosen.append(categories[choice])\n",
    "    \n",
    "    return np.array(chosen)"
   ]
  },
  {
   "cell_type": "code",
   "execution_count": 4,
   "metadata": {},
   "outputs": [
    {
     "data": {
      "text/plain": [
       "array(['Low', 'High', '', 'High', ''], dtype='<U4')"
      ]
     },
     "execution_count": 4,
     "metadata": {},
     "output_type": "execute_result"
    }
   ],
   "source": [
    "random_category(['Low', 'Medium', 'High', ''], N=5)"
   ]
  },
  {
   "cell_type": "code",
   "execution_count": 5,
   "metadata": {},
   "outputs": [],
   "source": [
    "def random_floats(size, nan_frac=0.2, low=0, high=100):\n",
    "    \"\"\" Random floats with nan_frac nans\n",
    "    \"\"\"\n",
    "    n_nans = int(nan_frac*size)\n",
    "    replace_nan = np.sort(np.random.choice(np.arange(size), size=n_nans))\n",
    "    \n",
    "    v = np.random.randint(low=low, high=high, size=size).astype(np.float64)\n",
    "    v[replace_nan] = np.nan\n",
    "    \n",
    "    return v"
   ]
  },
  {
   "cell_type": "code",
   "execution_count": 6,
   "metadata": {},
   "outputs": [
    {
     "data": {
      "text/plain": [
       "array([97., 14., 39., 96., 11., 60., nan, nan,  1., 19.])"
      ]
     },
     "execution_count": 6,
     "metadata": {},
     "output_type": "execute_result"
    }
   ],
   "source": [
    "random_floats(10)"
   ]
  },
  {
   "cell_type": "code",
   "execution_count": 7,
   "metadata": {},
   "outputs": [],
   "source": [
    "# Construct test data\n",
    "data_len = 100\n",
    "\n",
    "levels = ['Low', 'Medium', 'High', 'Critical', '']\n",
    "settings = ['stun', 'heat', 'disintegrate', 'field burst', 'luvetric pulse', 'expanding energy pulse', 'proximity blast', '']\n",
    "\n",
    "data = OrderedDict()\n",
    "data['date'] = random_date_str(data_len)\n",
    "data['level'] = random_category(levels, data_len)\n",
    "data['setting'] = random_category(settings, data_len)\n",
    "data['health'] = random_floats(data_len)"
   ]
  },
  {
   "cell_type": "code",
   "execution_count": 8,
   "metadata": {},
   "outputs": [
    {
     "data": {
      "text/html": [
       "<div>\n",
       "<style scoped>\n",
       "    .dataframe tbody tr th:only-of-type {\n",
       "        vertical-align: middle;\n",
       "    }\n",
       "\n",
       "    .dataframe tbody tr th {\n",
       "        vertical-align: top;\n",
       "    }\n",
       "\n",
       "    .dataframe thead th {\n",
       "        text-align: right;\n",
       "    }\n",
       "</style>\n",
       "<table border=\"1\" class=\"dataframe\">\n",
       "  <thead>\n",
       "    <tr style=\"text-align: right;\">\n",
       "      <th></th>\n",
       "      <th>date</th>\n",
       "      <th>level</th>\n",
       "      <th>setting</th>\n",
       "      <th>health</th>\n",
       "    </tr>\n",
       "  </thead>\n",
       "  <tbody>\n",
       "    <tr>\n",
       "      <th>0</th>\n",
       "      <td>2019-10-28</td>\n",
       "      <td>Medium</td>\n",
       "      <td></td>\n",
       "      <td>53.0</td>\n",
       "    </tr>\n",
       "    <tr>\n",
       "      <th>1</th>\n",
       "      <td>2007-04-24</td>\n",
       "      <td>High</td>\n",
       "      <td>proximity blast</td>\n",
       "      <td>27.0</td>\n",
       "    </tr>\n",
       "    <tr>\n",
       "      <th>2</th>\n",
       "      <td>2001-03-21</td>\n",
       "      <td>Critical</td>\n",
       "      <td>expanding energy pulse</td>\n",
       "      <td>55.0</td>\n",
       "    </tr>\n",
       "    <tr>\n",
       "      <th>3</th>\n",
       "      <td>2019-08-03</td>\n",
       "      <td></td>\n",
       "      <td>field burst</td>\n",
       "      <td>NaN</td>\n",
       "    </tr>\n",
       "    <tr>\n",
       "      <th>4</th>\n",
       "      <td>2013-11-13</td>\n",
       "      <td>High</td>\n",
       "      <td>proximity blast</td>\n",
       "      <td>27.0</td>\n",
       "    </tr>\n",
       "    <tr>\n",
       "      <th>...</th>\n",
       "      <td>...</td>\n",
       "      <td>...</td>\n",
       "      <td>...</td>\n",
       "      <td>...</td>\n",
       "    </tr>\n",
       "    <tr>\n",
       "      <th>95</th>\n",
       "      <td>2012-12-26</td>\n",
       "      <td>Low</td>\n",
       "      <td>proximity blast</td>\n",
       "      <td>78.0</td>\n",
       "    </tr>\n",
       "    <tr>\n",
       "      <th>96</th>\n",
       "      <td>2008-03-31</td>\n",
       "      <td>Medium</td>\n",
       "      <td>proximity blast</td>\n",
       "      <td>20.0</td>\n",
       "    </tr>\n",
       "    <tr>\n",
       "      <th>97</th>\n",
       "      <td>2004-07-05</td>\n",
       "      <td></td>\n",
       "      <td>stun</td>\n",
       "      <td>NaN</td>\n",
       "    </tr>\n",
       "    <tr>\n",
       "      <th>98</th>\n",
       "      <td>2000-01-18</td>\n",
       "      <td>Low</td>\n",
       "      <td>stun</td>\n",
       "      <td>93.0</td>\n",
       "    </tr>\n",
       "    <tr>\n",
       "      <th>99</th>\n",
       "      <td>2009-07-06</td>\n",
       "      <td>Medium</td>\n",
       "      <td>luvetric pulse</td>\n",
       "      <td>44.0</td>\n",
       "    </tr>\n",
       "  </tbody>\n",
       "</table>\n",
       "<p>100 rows × 4 columns</p>\n",
       "</div>"
      ],
      "text/plain": [
       "          date     level                 setting  health\n",
       "0   2019-10-28    Medium                            53.0\n",
       "1   2007-04-24      High         proximity blast    27.0\n",
       "2   2001-03-21  Critical  expanding energy pulse    55.0\n",
       "3   2019-08-03                       field burst     NaN\n",
       "4   2013-11-13      High         proximity blast    27.0\n",
       "..         ...       ...                     ...     ...\n",
       "95  2012-12-26       Low         proximity blast    78.0\n",
       "96  2008-03-31    Medium         proximity blast    20.0\n",
       "97  2004-07-05                              stun     NaN\n",
       "98  2000-01-18       Low                    stun    93.0\n",
       "99  2009-07-06    Medium          luvetric pulse    44.0\n",
       "\n",
       "[100 rows x 4 columns]"
      ]
     },
     "execution_count": 8,
     "metadata": {},
     "output_type": "execute_result"
    }
   ],
   "source": [
    "df = pd.DataFrame(data)\n",
    "df"
   ]
  },
  {
   "cell_type": "code",
   "execution_count": 9,
   "metadata": {},
   "outputs": [
    {
     "data": {
      "text/plain": [
       "date        0\n",
       "level       0\n",
       "setting     0\n",
       "health     19\n",
       "dtype: int64"
      ]
     },
     "execution_count": 9,
     "metadata": {},
     "output_type": "execute_result"
    }
   ],
   "source": [
    "df.isnull().sum()"
   ]
  },
  {
   "cell_type": "code",
   "execution_count": 10,
   "metadata": {},
   "outputs": [],
   "source": [
    "#df.to_csv('../../dataworks/tests/testdata/testdata.csv')"
   ]
  },
  {
   "cell_type": "code",
   "execution_count": null,
   "metadata": {},
   "outputs": [],
   "source": []
  }
 ],
 "metadata": {
  "kernelspec": {
   "display_name": "Python 3",
   "language": "python",
   "name": "python3"
  },
  "language_info": {
   "codemirror_mode": {
    "name": "ipython",
    "version": 3
   },
   "file_extension": ".py",
   "mimetype": "text/x-python",
   "name": "python",
   "nbconvert_exporter": "python",
   "pygments_lexer": "ipython3",
   "version": "3.7.3"
  }
 },
 "nbformat": 4,
 "nbformat_minor": 2
}
