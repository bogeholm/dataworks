{
 "cells": [
  {
   "cell_type": "code",
   "execution_count": 1,
   "metadata": {},
   "outputs": [],
   "source": [
    "import numpy as np\n",
    "import pandas as pd\n",
    "\n",
    "from collections import OrderedDict\n",
    "from datetime import datetime, timedelta\n",
    "from typing import Any, Iterable"
   ]
  },
  {
   "cell_type": "code",
   "execution_count": 2,
   "metadata": {},
   "outputs": [],
   "source": [
    "def random_date_str(N: int=1, datefmt: str='%Y-%m-%d') -> np.array:\n",
    "    \"\"\" Return N random date strings.\n",
    "    \"\"\"\n",
    "    first = datetime.strptime('2000-01-01', '%Y-%m-%d')\n",
    "    last = datetime.strptime('2020-01-01', '%Y-%m-%d')\n",
    "    \n",
    "    # Datetime diff\n",
    "    datediff = last - first\n",
    "    \n",
    "    # Diff in seconds\n",
    "    secdiff = datediff.days*24*3600 + datediff.seconds\n",
    "    \n",
    "    # Generate random seconds in range\n",
    "    randsecs = np.random.randint(low=0, high=secdiff+1, size=N)\n",
    "    \n",
    "    # Generate date strings\n",
    "    resdates = []\n",
    "    for idx, seconds in enumerate(randsecs):\n",
    "        # New date\n",
    "        rand_date = first + timedelta(seconds=int(seconds))\n",
    "        resdates.append(rand_date.strftime(datefmt))\n",
    "    \n",
    "    return np.array(resdates)"
   ]
  },
  {
   "cell_type": "code",
   "execution_count": 3,
   "metadata": {},
   "outputs": [],
   "source": [
    "def random_category(categories: Iterable[Any], N: int=1) -> np.array:\n",
    "    \"\"\" Pick random elements from the supplied list\n",
    "    \"\"\"\n",
    "    choices = np.random.randint(low=0, high=len(categories), size=N)\n",
    "    chosen = []\n",
    "    for choice in choices:\n",
    "        chosen.append(categories[choice])\n",
    "    \n",
    "    return np.array(chosen)"
   ]
  },
  {
   "cell_type": "code",
   "execution_count": 4,
   "metadata": {},
   "outputs": [
    {
     "data": {
      "text/plain": [
       "array(['Medium', 'Low', '', 'High', 'High'], dtype='<U6')"
      ]
     },
     "execution_count": 4,
     "metadata": {},
     "output_type": "execute_result"
    }
   ],
   "source": [
    "random_category(['Low', 'Medium', 'High', ''], N=5)"
   ]
  },
  {
   "cell_type": "code",
   "execution_count": 5,
   "metadata": {},
   "outputs": [],
   "source": [
    "# Construct test data\n",
    "data_len = 50\n",
    "\n",
    "levels = ['Low', 'Medium', 'High', 'Critical', '']\n",
    "settings = ['stun', 'heat', 'disintegrate', 'field burst', 'luvetric pulse', 'expanding energy pulse', 'proximity blast', '']\n",
    "\n",
    "data = OrderedDict()\n",
    "data['date'] = random_date_str(data_len)\n",
    "data['level'] = random_category(levels, data_len)\n",
    "data['setting'] = random_category(settings, data_len)"
   ]
  },
  {
   "cell_type": "code",
   "execution_count": 6,
   "metadata": {},
   "outputs": [],
   "source": [
    "df = pd.DataFrame(data)"
   ]
  },
  {
   "cell_type": "code",
   "execution_count": 10,
   "metadata": {},
   "outputs": [],
   "source": [
    "df.to_csv('../../dataworks/tests/testdata/testdata.csv')"
   ]
  },
  {
   "cell_type": "code",
   "execution_count": 9,
   "metadata": {},
   "outputs": [
    {
     "name": "stdout",
     "output_type": "stream",
     "text": [
      "README.md \u001b[34mdata\u001b[m\u001b[m      \u001b[34mjupyter\u001b[m\u001b[m\r\n"
     ]
    }
   ],
   "source": [
    "!ls .."
   ]
  },
  {
   "cell_type": "code",
   "execution_count": null,
   "metadata": {},
   "outputs": [],
   "source": []
  }
 ],
 "metadata": {
  "kernelspec": {
   "display_name": "Python 3",
   "language": "python",
   "name": "python3"
  },
  "language_info": {
   "codemirror_mode": {
    "name": "ipython",
    "version": 3
   },
   "file_extension": ".py",
   "mimetype": "text/x-python",
   "name": "python",
   "nbconvert_exporter": "python",
   "pygments_lexer": "ipython3",
   "version": "3.7.3"
  }
 },
 "nbformat": 4,
 "nbformat_minor": 2
}
