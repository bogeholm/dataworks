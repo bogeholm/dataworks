{
 "cells": [
  {
   "cell_type": "code",
   "execution_count": 1,
   "metadata": {},
   "outputs": [],
   "source": [
    "import pandas as pd\n",
    "import numpy as np\n",
    "from collections import OrderedDict"
   ]
  },
  {
   "cell_type": "code",
   "execution_count": 2,
   "metadata": {},
   "outputs": [],
   "source": [
    "d = OrderedDict()\n",
    "d['a'] = [1, 2, 3, 4]\n",
    "d['b'] = [2, 4, 6, 8]\n",
    "d['c'] = [9, 8, 7, 6]\n",
    "df_raw = pd.DataFrame(d)"
   ]
  },
  {
   "cell_type": "code",
   "execution_count": 3,
   "metadata": {},
   "outputs": [
    {
     "name": "stdout",
     "output_type": "stream",
     "text": [
      "   a  b  c\n",
      "0  1  2  9\n",
      "1  2  4  8\n",
      "2  3  6  7\n",
      "3  4  8  6\n"
     ]
    }
   ],
   "source": [
    "print(df_raw)"
   ]
  },
  {
   "cell_type": "code",
   "execution_count": 4,
   "metadata": {},
   "outputs": [],
   "source": [
    "def shuffle(df):\n",
    "    dfc = df.copy(deep=True)\n",
    "    \n",
    "    for idx, col in enumerate(df.columns):\n",
    "        org_col = df[col].values\n",
    "        shuf_col = np.copy(org_col)\n",
    "        np.random.shuffle(shuf_col)\n",
    "        \n",
    "        dfc[col] = shuf_col\n",
    "        print(f'Shuffling column {col}:')\n",
    "        print(dfc)\n",
    "        print()\n",
    "        dfc[col] = org_col"
   ]
  },
  {
   "cell_type": "code",
   "execution_count": 5,
   "metadata": {},
   "outputs": [],
   "source": [
    "#shuffle(df_raw)"
   ]
  },
  {
   "cell_type": "code",
   "execution_count": 16,
   "metadata": {},
   "outputs": [],
   "source": [
    "def shuffle_cols(df):\n",
    "    \"\"\" Return an iterator over df's shuffled columns. \n",
    "        Yields shuffled df and colname\n",
    "    \"\"\"\n",
    "    dfc = df.copy(deep=True)\n",
    "    \n",
    "    for idx, col in enumerate(df.columns):\n",
    "        org_col = df[col].values\n",
    "        shuf_col = np.copy(org_col)\n",
    "        np.random.shuffle(shuf_col)\n",
    "        \n",
    "        dfc[col] = shuf_col\n",
    "        yield (dfc, col)\n",
    "        dfc[col] = org_col"
   ]
  },
  {
   "cell_type": "code",
   "execution_count": 19,
   "metadata": {},
   "outputs": [
    {
     "name": "stdout",
     "output_type": "stream",
     "text": [
      "[0] Shuffling column: a\n",
      "   a  b  c\n",
      "0  3  2  9\n",
      "1  1  4  8\n",
      "2  4  6  7\n",
      "3  2  8  6\n",
      "\n",
      "[1] Shuffling column: b\n",
      "   a  b  c\n",
      "0  1  6  9\n",
      "1  2  4  8\n",
      "2  3  2  7\n",
      "3  4  8  6\n",
      "\n",
      "[2] Shuffling column: c\n",
      "   a  b  c\n",
      "0  1  2  6\n",
      "1  2  4  8\n",
      "2  3  6  9\n",
      "3  4  8  7\n",
      "\n"
     ]
    }
   ],
   "source": [
    "shuffler = shuffle_cols(df_raw)\n",
    "\n",
    "for idx, (df, col) in enumerate(shuffler):\n",
    "    print(f'{[idx]} Shuffling column: {col}')\n",
    "    print(df)\n",
    "    print()"
   ]
  },
  {
   "cell_type": "code",
   "execution_count": null,
   "metadata": {},
   "outputs": [],
   "source": []
  },
  {
   "cell_type": "code",
   "execution_count": null,
   "metadata": {},
   "outputs": [],
   "source": []
  }
 ],
 "metadata": {
  "kernelspec": {
   "display_name": "Python 3",
   "language": "python",
   "name": "python3"
  },
  "language_info": {
   "codemirror_mode": {
    "name": "ipython",
    "version": 3
   },
   "file_extension": ".py",
   "mimetype": "text/x-python",
   "name": "python",
   "nbconvert_exporter": "python",
   "pygments_lexer": "ipython3",
   "version": "3.7.3"
  }
 },
 "nbformat": 4,
 "nbformat_minor": 2
}
